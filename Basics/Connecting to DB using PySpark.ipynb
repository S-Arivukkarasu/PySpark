{
 "cells": [
  {
   "cell_type": "code",
   "execution_count": 1,
   "id": "8f537000",
   "metadata": {},
   "outputs": [
    {
     "name": "stdout",
     "output_type": "stream",
     "text": [
      "23/07/19 23:04:17 WARN Utils: Your hostname, alexender-ROG-Strix-G512LI-G512LI resolves to a loopback address: 127.0.1.1; using 192.168.1.9 instead (on interface wlo1)\n",
      "23/07/19 23:04:17 WARN Utils: Set SPARK_LOCAL_IP if you need to bind to another address\n",
      "23/07/19 23:04:18 WARN NativeCodeLoader: Unable to load native-hadoop library for your platform... using builtin-java classes where applicable\n"
     ]
    },
    {
     "name": "stderr",
     "output_type": "stream",
     "text": [
      "Setting default log level to \"WARN\".\n",
      "To adjust logging level use sc.setLogLevel(newLevel). For SparkR, use setLogLevel(newLevel).\n"
     ]
    },
    {
     "data": {
      "text/html": [
       "\n",
       "            <div>\n",
       "                <p><b>SparkSession - in-memory</b></p>\n",
       "                \n",
       "        <div>\n",
       "            <p><b>SparkContext</b></p>\n",
       "\n",
       "            <p><a href=\"http://192.168.1.9:4040\">Spark UI</a></p>\n",
       "\n",
       "            <dl>\n",
       "              <dt>Version</dt>\n",
       "                <dd><code>v3.3.1</code></dd>\n",
       "              <dt>Master</dt>\n",
       "                <dd><code>local[*]</code></dd>\n",
       "              <dt>AppName</dt>\n",
       "                <dd><code>Saiyan</code></dd>\n",
       "            </dl>\n",
       "        </div>\n",
       "        \n",
       "            </div>\n",
       "        "
      ],
      "text/plain": [
       "<pyspark.sql.session.SparkSession at 0x7fb4d80b6ec0>"
      ]
     },
     "execution_count": 1,
     "metadata": {},
     "output_type": "execute_result"
    }
   ],
   "source": [
    "from pyspark.sql import SparkSession\n",
    "spark = SparkSession.builder.appName(\"Saiyan\").config(\"spark.jars\", \"/usr/share/java/mysql-connector-j-8.1.0.jar\").getOrCreate()\n",
    "spark"
   ]
  },
  {
   "cell_type": "code",
   "execution_count": 2,
   "id": "57d8a3c3",
   "metadata": {},
   "outputs": [],
   "source": [
    "val_df = spark.read \\\n",
    "    .format(\"jdbc\") \\\n",
    "    .option(\"driver\",\"com.mysql.cj.jdbc.Driver\") \\\n",
    "    .option(\"url\", \"jdbc:mysql://localhost:3306/Personal_DB\") \\\n",
    "    .option(\"dbtable\", \"Telecom_Churn\") \\\n",
    "    .option(\"user\", \"root\") \\\n",
    "    .option(\"password\", \"Alex@$14798|<</>>\") \\\n",
    "    .load()"
   ]
  },
  {
   "cell_type": "code",
   "execution_count": 3,
   "id": "11cc8b3f",
   "metadata": {},
   "outputs": [
    {
     "name": "stdout",
     "output_type": "stream",
     "text": [
      "23/07/19 23:04:31 WARN package: Truncated the string representation of a plan since it was too large. This behavior can be adjusted by setting 'spark.sql.debug.maxToStringFields'.\n",
      "+----------+-----+-------------+----------+-------------------+--------+--------------------+---------+-----------+------+--------------+-------+----------+-------------+-------------+----------------+----------------+---------------+-------------+-----------------+------------+------------+----------------+--------------+-----------------+--------------------+---------------+-------------+-----------+-----------+-----------+----+--------------------+\n",
      "|CustomerID|Count|      Country|     State|               City|Zip Code|            Lat Long| Latitude|  Longitude|Gender|Senior Citizen|Partner|Dependents|Tenure Months|Phone Service|  Multiple Lines|Internet Service|Online Security|Online Backup|Device Protection|Tech Support|Streaming TV|Streaming Movies|      Contract|Paperless Billing|      Payment Method|Monthly Charges|Total Charges|Churn Label|Churn Value|Churn Score|CLTV|        Churn Reason|\n",
      "+----------+-----+-------------+----------+-------------------+--------+--------------------+---------+-----------+------+--------------+-------+----------+-------------+-------------+----------------+----------------+---------------+-------------+-----------------+------------+------------+----------------+--------------+-----------------+--------------------+---------------+-------------+-----------+-----------+-----------+----+--------------------+\n",
      "|0002-ORFBO|    1|United States|California|       Frazier Park|   93225|34.827662, -118.9...|34.827662|-118.999073|Female|            No|    Yes|        No|            9|          Yes|              No|             DSL|             No|          Yes|               No|         Yes|         Yes|              No|      One year|              Yes|        Mailed check|           65.6|        593.3|         No|          0|         65|2205|                    |\n",
      "|0003-MKNFE|    1|United States|California|           Glendale|   91206|34.162515, -118.2...|34.162515|-118.203869|  Male|            No|     No|        No|            9|          Yes|             Yes|             DSL|             No|           No|               No|          No|          No|             Yes|Month-to-month|               No|        Mailed check|           59.9|        542.4|         No|          0|         66|5414|                    |\n",
      "|0004-TLHLJ|    1|United States|California|         Costa Mesa|   92627|33.645672, -117.9...|33.645672|-117.922613|  Male|            No|     No|        No|            4|          Yes|              No|     Fiber optic|             No|           No|              Yes|          No|          No|              No|Month-to-month|              Yes|    Electronic check|           73.9|       280.85|        Yes|          1|         71|4479|      Price too high|\n",
      "|0011-IGKFF|    1|United States|California|           Martinez|   94553|38.014457, -122.1...|38.014457|-122.115432|  Male|           Yes|    Yes|        No|           13|          Yes|              No|     Fiber optic|             No|          Yes|              Yes|          No|         Yes|             Yes|Month-to-month|              Yes|    Electronic check|           98.0|      1237.85|        Yes|          1|         99|3714|Product dissatisf...|\n",
      "|0013-EXCHZ|    1|United States|California|          Camarillo|   93010|34.227846, -119.0...|34.227846|-119.079903|Female|           Yes|    Yes|        No|            3|          Yes|              No|     Fiber optic|             No|           No|               No|         Yes|         Yes|              No|Month-to-month|              Yes|        Mailed check|           83.9|        267.4|        Yes|          1|         68|3464| Network reliability|\n",
      "|0013-MHZWF|    1|United States|California|           Midpines|   95345|37.581496, -119.9...|37.581496|-119.972762|Female|            No|     No|       Yes|            9|          Yes|              No|             DSL|             No|           No|               No|         Yes|         Yes|             Yes|Month-to-month|              Yes|Credit card (auto...|           69.4|       571.45|         No|          0|         55|5108|                    |\n",
      "|0013-SMEOE|    1|United States|California|             Lompoc|   93437|34.757477, -120.5...|34.757477|-120.550507|Female|           Yes|    Yes|        No|           71|          Yes|              No|     Fiber optic|            Yes|          Yes|              Yes|         Yes|         Yes|             Yes|      Two year|              Yes|Bank transfer (au...|          109.7|      7904.25|         No|          0|         26|5011|                    |\n",
      "|0014-BMAQU|    1|United States|California|               Napa|   94558|38.489789, -122.2...|38.489789| -122.27011|  Male|            No|    Yes|        No|           63|          Yes|             Yes|     Fiber optic|            Yes|           No|               No|         Yes|          No|              No|      Two year|              Yes|Credit card (auto...|          84.65|       5377.8|         No|          0|         49|4604|                    |\n",
      "|0015-UOCOJ|    1|United States|California|        Simi Valley|   93063|34.296813, -118.6...|34.296813|-118.685703|Female|           Yes|     No|        No|            7|          Yes|              No|             DSL|            Yes|           No|               No|          No|          No|              No|Month-to-month|              Yes|    Electronic check|           48.2|       340.35|         No|          0|         34|5525|                    |\n",
      "|0016-QLJIS|    1|United States|California|           Sheridan|   95681|38.984756, -121.3...|38.984756|-121.345074|Female|            No|    Yes|       Yes|           65|          Yes|             Yes|             DSL|            Yes|          Yes|              Yes|         Yes|         Yes|             Yes|      Two year|              Yes|        Mailed check|          90.45|       5957.9|         No|          0|         25|5509|                    |\n",
      "|0017-DINOC|    1|United States|California|    Rancho Santa Fe|   92091|32.99356, -117.20...| 32.99356|-117.207121|  Male|            No|     No|        No|           54|           No|No phone service|             DSL|            Yes|           No|               No|         Yes|         Yes|              No|      Two year|               No|Credit card (auto...|           45.2|      2460.55|         No|          0|         54|5435|                    |\n",
      "|0017-IUDMW|    1|United States|California|          Sunnyvale|   94086|37.378541, -122.0...|37.378541|-122.020456|Female|            No|    Yes|       Yes|           72|          Yes|             Yes|     Fiber optic|            Yes|          Yes|              Yes|         Yes|         Yes|             Yes|      Two year|              Yes|Credit card (auto...|          116.8|      8456.75|         No|          0|         52|6252|                    |\n",
      "|0018-NYROU|    1|United States|California|           Antelope|   95843|38.715498, -121.3...|38.715498|-121.363411|Female|            No|    Yes|        No|            5|          Yes|              No|     Fiber optic|             No|           No|               No|          No|          No|              No|Month-to-month|              Yes|    Electronic check|          68.95|        351.5|         No|          0|         57|5536|                    |\n",
      "|0019-EFAEP|    1|United States|California|            La Mesa|   91942|32.782501, -117.0...|32.782501| -117.01611|Female|            No|     No|        No|           72|          Yes|             Yes|     Fiber optic|            Yes|          Yes|              Yes|          No|         Yes|              No|      Two year|              Yes|Bank transfer (au...|          101.3|      7261.25|         No|          0|         53|5513|                    |\n",
      "|0019-GFNTW|    1|United States|California|         Los Olivos|   93441|34.70434, -120.02609| 34.70434| -120.02609|Female|            No|     No|        No|           56|           No|No phone service|             DSL|            Yes|          Yes|              Yes|         Yes|          No|              No|      Two year|               No|Bank transfer (au...|          45.05|       2560.1|         No|          0|         37|5795|                    |\n",
      "|0020-INWCK|    1|United States|California|           Woodlake|   93286|36.464635, -119.0...|36.464635|-119.094348|Female|            No|    Yes|       Yes|           71|          Yes|             Yes|     Fiber optic|             No|          Yes|              Yes|          No|          No|             Yes|      Two year|              Yes|Credit card (auto...|          95.75|       6849.4|         No|          0|         26|4865|                    |\n",
      "|0020-JDNXP|    1|United States|California|Point Reyes Station|   94956|38.060264, -122.8...|38.060264|-122.830646|Female|            No|    Yes|       Yes|           34|           No|No phone service|             DSL|            Yes|           No|              Yes|         Yes|         Yes|             Yes|      One year|               No|        Mailed check|          61.25|       1993.2|         No|          0|         37|3607|                    |\n",
      "|0021-IKXGC|    1|United States|California|         San Marcos|   92078|33.119028, -117.1...|33.119028|-117.166036|Female|           Yes|     No|        No|            1|          Yes|             Yes|     Fiber optic|             No|           No|               No|          No|          No|              No|Month-to-month|              Yes|    Electronic check|           72.1|         72.1|         No|          0|         50|4432|                    |\n",
      "|0022-TCJCI|    1|United States|California|          Daly City|   94015|37.680844, -122.4...|37.680844| -122.48131|  Male|           Yes|     No|        No|           45|          Yes|              No|             DSL|            Yes|           No|              Yes|          No|          No|             Yes|      One year|               No|Credit card (auto...|           62.7|       2791.5|        Yes|          1|         92|2654|Limited range of ...|\n",
      "|0023-HGHWL|    1|United States|California|        Morgan Hill|   95037|37.161544, -121.6...|37.161544|-121.649371|  Male|           Yes|     No|        No|            1|           No|No phone service|             DSL|             No|           No|               No|          No|          No|              No|Month-to-month|              Yes|    Electronic check|           25.1|         25.1|        Yes|          1|         85|5437|Competitor made b...|\n",
      "+----------+-----+-------------+----------+-------------------+--------+--------------------+---------+-----------+------+--------------+-------+----------+-------------+-------------+----------------+----------------+---------------+-------------+-----------------+------------+------------+----------------+--------------+-----------------+--------------------+---------------+-------------+-----------+-----------+-----------+----+--------------------+\n",
      "only showing top 20 rows\n",
      "\n"
     ]
    }
   ],
   "source": [
    "val_df.show()"
   ]
  },
  {
   "cell_type": "code",
   "execution_count": null,
   "id": "1043f77f",
   "metadata": {},
   "outputs": [],
   "source": []
  }
 ],
 "metadata": {
  "kernelspec": {
   "display_name": "Python 3 (ipykernel)",
   "language": "python",
   "name": "python3"
  },
  "language_info": {
   "codemirror_mode": {
    "name": "ipython",
    "version": 3
   },
   "file_extension": ".py",
   "mimetype": "text/x-python",
   "name": "python",
   "nbconvert_exporter": "python",
   "pygments_lexer": "ipython3",
   "version": "3.10.12"
  }
 },
 "nbformat": 4,
 "nbformat_minor": 5
}
